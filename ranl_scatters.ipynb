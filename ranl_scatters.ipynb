{
 "cells": [
  {
   "cell_type": "markdown",
   "metadata": {
    "collapsed": true,
    "pycharm": {
     "name": "#%% md\n"
    }
   },
   "source": [
    "# Scatters"
   ]
  },
  {
   "cell_type": "code",
   "execution_count": 11,
   "outputs": [],
   "source": [
    "import numpy as np\n",
    "import time\n",
    "import pickle\n",
    "from matplotlib import pyplot as plt"
   ],
   "metadata": {
    "collapsed": false,
    "pycharm": {
     "name": "#%%\n",
     "is_executing": false
    }
   }
  },
  {
   "cell_type": "code",
   "execution_count": 13,
   "outputs": [],
   "source": [
    "def pickle_store(filename, item):\n",
    "    with open(filename, 'wb') as file:\n",
    "        pickle.dump(item, file)\n",
    "def pickle_load(filename):\n",
    "    with open(filename, 'rb') as file:\n",
    "        return pickle.load(file)"
   ],
   "metadata": {
    "collapsed": false,
    "pycharm": {
     "name": "#%%\n",
     "is_executing": false
    }
   }
  },
  {
   "cell_type": "code",
   "execution_count": 14,
   "outputs": [],
   "source": [
    "ranks = pickle_load(\"results/b21_res.rank\")\n"
   ],
   "metadata": {
    "collapsed": false,
    "pycharm": {
     "name": "#%%\n",
     "is_executing": false
    }
   }
  },
  {
   "cell_type": "code",
   "source": [
    "## Collecting the data"
   ],
   "metadata": {
    "collapsed": false,
    "pycharm": {
     "name": "#%% md \n",
     "is_executing": false
    }
   },
   "execution_count": null,
   "outputs": []
  },
  {
   "cell_type": "code",
   "execution_count": 33,
   "outputs": [],
   "source": [
    "franks = ranks.round()\n",
    "fmin = int(franks.min())\n",
    "fmax = int(franks.max())\n",
    "\n",
    "counters = {key:0 for key in range(fmin, fmax+1)}"
   ],
   "metadata": {
    "collapsed": false,
    "pycharm": {
     "name": "#%%\n",
     "is_executing": false
    }
   }
  },
  {
   "cell_type": "code",
   "execution_count": 34,
   "outputs": [],
   "source": [
    "for r in franks:\n",
    "    counters[int(r)] += 1"
   ],
   "metadata": {
    "collapsed": false,
    "pycharm": {
     "name": "#%%\n",
     "is_executing": false
    }
   }
  },
  {
   "cell_type": "code",
   "execution_count": 40,
   "outputs": [],
   "source": [
    "ranks_values = counters.keys()\n",
    "ranks_counts = counters.values()"
   ],
   "metadata": {
    "collapsed": false,
    "pycharm": {
     "name": "#%%\n",
     "is_executing": false
    }
   }
  },
  {
   "cell_type": "code",
   "execution_count": 58,
   "outputs": [
    {
     "data": {
      "text/plain": "<Figure size 432x288 with 1 Axes>",
      "image/png": "[encoded data removed]"
     },
     "metadata": {
      "needs_background": "light"
     },
     "output_type": "display_data"
    }
   ],
   "source": [
    "fig = plt.figure()\n",
    "ax = fig.gca()\n",
    "ax.scatter(ranks_values, ranks_counts)\n",
    "ax.set_yscale('log')\n",
    "ax.set_xscale('log')\n",
    "plt.show()"
   ],
   "metadata": {
    "collapsed": false,
    "pycharm": {
     "name": "#%%\n",
     "is_executing": false
    }
   }
  },
  {
   "cell_type": "code",
   "execution_count": 53,
   "outputs": [
    {
     "name": "stdout",
     "text": [
      "0  ->  285722\n",
      "1  ->  414181\n",
      "2  ->  134429\n",
      "3  ->  27583\n",
      "4  ->  7346\n",
      "5  ->  2856\n",
      "6  ->  1199\n",
      "7  ->  822\n",
      "8  ->  528\n",
      "9  ->  291\n",
      "10  ->  150\n",
      "11  ->  115\n",
      "12  ->  78\n",
      "13  ->  55\n",
      "14  ->  43\n",
      "15  ->  48\n",
      "16  ->  64\n",
      "17  ->  45\n",
      "18  ->  28\n",
      "19  ->  16\n",
      "20  ->  18\n",
      "21  ->  9\n",
      "22  ->  15\n",
      "23  ->  8\n",
      "24  ->  9\n",
      "25  ->  4\n",
      "26  ->  1\n",
      "27  ->  3\n",
      "28  ->  5\n",
      "29  ->  3\n",
      "30  ->  1\n",
      "31  ->  7\n",
      "32  ->  3\n",
      "33  ->  5\n",
      "34  ->  0\n",
      "35  ->  6\n",
      "36  ->  3\n",
      "37  ->  0\n",
      "38  ->  2\n",
      "39  ->  3\n",
      "40  ->  1\n",
      "41  ->  1\n",
      "42  ->  1\n",
      "43  ->  0\n",
      "44  ->  4\n",
      "45  ->  1\n",
      "46  ->  0\n",
      "47  ->  0\n",
      "48  ->  0\n",
      "49  ->  0\n",
      "50  ->  0\n",
      "51  ->  0\n",
      "52  ->  0\n",
      "53  ->  0\n",
      "54  ->  0\n",
      "55  ->  0\n",
      "56  ->  0\n",
      "57  ->  0\n",
      "58  ->  0\n",
      "59  ->  0\n",
      "60  ->  0\n",
      "61  ->  0\n",
      "62  ->  0\n",
      "63  ->  0\n",
      "64  ->  0\n",
      "65  ->  0\n",
      "66  ->  0\n",
      "67  ->  0\n",
      "68  ->  0\n",
      "69  ->  0\n",
      "70  ->  0\n",
      "71  ->  0\n",
      "72  ->  0\n",
      "73  ->  0\n",
      "74  ->  0\n",
      "75  ->  0\n",
      "76  ->  0\n",
      "77  ->  0\n",
      "78  ->  0\n",
      "79  ->  0\n",
      "80  ->  0\n",
      "81  ->  0\n",
      "82  ->  0\n",
      "83  ->  0\n",
      "84  ->  0\n",
      "85  ->  0\n",
      "86  ->  0\n",
      "87  ->  0\n",
      "88  ->  1\n"
     ],
     "output_type": "stream"
    }
   ],
   "source": [
    "for key in counters:\n",
    "    print(key, \" -> \", counters[key])"
   ],
   "metadata": {
    "collapsed": false,
    "pycharm": {
     "name": "#%%\n",
     "is_executing": false
    }
   }
  },
  {
   "cell_type": "code",
   "execution_count": null,
   "outputs": [],
   "source": [
    "\n"
   ],
   "metadata": {
    "collapsed": false,
    "pycharm": {
     "name": "#%%\n"
    }
   }
  }
 ],
 "metadata": {
  "kernelspec": {
   "display_name": "Python 3",
   "language": "python",
   "name": "python3"
  },
  "language_info": {
   "codemirror_mode": {
    "name": "ipython",
    "version": 2
   },
   "file_extension": ".py",
   "mimetype": "text/x-python",
   "name": "python",
   "nbconvert_exporter": "python",
   "pygments_lexer": "ipython2",
   "version": "2.7.6"
  },
  "pycharm": {
   "stem_cell": {
    "cell_type": "raw",
    "source": [],
    "metadata": {
     "collapsed": false
    }
   }
  }
 },
 "nbformat": 4,
 "nbformat_minor": 0
}